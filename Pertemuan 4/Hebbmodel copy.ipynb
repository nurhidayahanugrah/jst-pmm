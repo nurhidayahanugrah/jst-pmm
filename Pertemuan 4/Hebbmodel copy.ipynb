{
 "cells": [
  {
   "cell_type": "code",
   "execution_count": 1,
   "id": "8eb0eee0-1660-4fea-93a8-bf523b0e38ee",
   "metadata": {},
   "outputs": [],
   "source": [
    "class HebbRule:\n",
    "  def __init__(self):\n",
    "    self.b = 0\n",
    "    self.w = {}\n",
    "    self.score = 0\n",
    "\n",
    "  def inisialisasi(self,inputs):\n",
    "    for x in range(len(inputs[0])):\n",
    "      self.w['w'+str(x)] = 0\n",
    "\n",
    "  def train(self,inputs,label):\n",
    "    self.inisialisasi(inputs)\n",
    "\n",
    "    for input, target in zip(inputs, label):\n",
    "      for index, x in enumerate(input):\n",
    "        self.w['w'+str(index)] = self.w['w'+str(index)] + (x*target)\n",
    "      self.b = self.b + target\n",
    "\n",
    "    aktivasi = lambda x : 1 if x >= 0 else -1 #aktivasi bipolar\n",
    "    benar = 0\n",
    "    for input, target in zip(inputs,label):\n",
    "      y_in = 0\n",
    "      for index, x in enumerate(input):\n",
    "        y_in = self.w['w'+str(index)] * x\n",
    "\n",
    "      y_in = y_in + self.b\n",
    "\n",
    "      if aktivasi(y_in) == target:\n",
    "        benar = benar + 1\n",
    "\n",
    "    self.score = benar / len(inputs)\n",
    "\n",
    "  def predict(self,inputs):\n",
    "    y_in = 0\n",
    "    for index, x in enumerate(inputs):\n",
    "      y_in = self.w['w'+str(index)] * x\n",
    "\n",
    "    y_in = y_in + self.b\n",
    "    aktivasi = lambda x : 1 if x >= 0 else -1 #aktivasi bipolar\n",
    "    return aktivasi(y_in)\n",
    "\n",
    "  def akurasi(self):\n",
    "    return self.score"
   ]
  },
  {
   "cell_type": "code",
   "execution_count": 2,
   "id": "89f25dbf-f2e6-4599-b412-02e9afbb46a1",
   "metadata": {},
   "outputs": [],
   "source": [
    "x = [[-1, -1], [1, -1], [-1, 1], [1, 1]]\n",
    "y = [-1, 1, 1, 1]"
   ]
  },
  {
   "cell_type": "code",
   "execution_count": 3,
   "id": "e35f0b35-152a-4c67-a95a-40dcbedbeba2",
   "metadata": {},
   "outputs": [],
   "source": [
    "H = HebbRule()"
   ]
  },
  {
   "cell_type": "code",
   "execution_count": 4,
   "id": "7f6317a6-f466-499d-b7de-1c4322ca7088",
   "metadata": {},
   "outputs": [],
   "source": [
    "H.train(x,y)"
   ]
  },
  {
   "cell_type": "code",
   "execution_count": 5,
   "id": "a1e5a532-b024-4065-8f58-6eb08f5bc7f3",
   "metadata": {},
   "outputs": [
    {
     "data": {
      "text/plain": [
       "0.75"
      ]
     },
     "execution_count": 5,
     "metadata": {},
     "output_type": "execute_result"
    }
   ],
   "source": [
    "H.akurasi()"
   ]
  },
  {
   "cell_type": "code",
   "execution_count": 6,
   "id": "4fc2e5ea-0219-4da2-b712-f7344e570d62",
   "metadata": {},
   "outputs": [
    {
     "data": {
      "text/plain": [
       "1"
      ]
     },
     "execution_count": 6,
     "metadata": {},
     "output_type": "execute_result"
    }
   ],
   "source": [
    "H.predict([-1, -1])"
   ]
  },
  {
   "cell_type": "code",
   "execution_count": null,
   "id": "6e234711-364b-4f4c-8d08-fbd28d6d46d5",
   "metadata": {},
   "outputs": [],
   "source": []
  }
 ],
 "metadata": {
  "kernelspec": {
   "display_name": "Python 3 (ipykernel)",
   "language": "python",
   "name": "python3"
  },
  "language_info": {
   "codemirror_mode": {
    "name": "ipython",
    "version": 3
   },
   "file_extension": ".py",
   "mimetype": "text/x-python",
   "name": "python",
   "nbconvert_exporter": "python",
   "pygments_lexer": "ipython3",
   "version": "3.10.7"
  }
 },
 "nbformat": 4,
 "nbformat_minor": 5
}
