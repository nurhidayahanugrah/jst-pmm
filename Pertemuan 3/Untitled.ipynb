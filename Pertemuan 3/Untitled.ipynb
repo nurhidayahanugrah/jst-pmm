{
 "cells": [
  {
   "cell_type": "code",
   "execution_count": 1,
   "id": "8e014760-d8ce-4062-823b-4fa66b0d12b0",
   "metadata": {},
   "outputs": [],
   "source": [
    "import numpy as np"
   ]
  },
  {
   "cell_type": "code",
   "execution_count": 2,
   "id": "018d1c59-5c12-4ed9-acf0-fabb29e6f62c",
   "metadata": {},
   "outputs": [],
   "source": [
    "#fungsi step biner\n",
    "def binstep(x, th=0):\n",
    "    return 1 if x>= th else 0\n",
    "\n",
    "def AND(x):\n",
    "    y_in = np.dot(x, (1,1))\n",
    "    return binstep(y_in, 2)\n",
    "\n",
    "def OR(x):\n",
    "    or_in = np.dot(x, (1, 1))\n",
    "    return binstep(or_in, 1)\n",
    "\n",
    "def AND2(x):\n",
    "    y_in = np.dot(x, [1,1,1])\n",
    "    return binstep(y_in, 3)"
   ]
  },
  {
   "cell_type": "code",
   "execution_count": 3,
   "id": "43d71c79-b75b-46a9-be82-4d97f3cee9f1",
   "metadata": {},
   "outputs": [
    {
     "name": "stdout",
     "output_type": "stream",
     "text": [
      "1\n",
      "0\n",
      "0\n",
      "0\n",
      "1\n",
      "1\n",
      "1\n",
      "0\n"
     ]
    }
   ],
   "source": [
    "print(AND([1,1]))\n",
    "print(AND([1,0]))\n",
    "print(AND([0,1]))\n",
    "print(AND([0,0]))\n",
    "\n",
    "print(OR([1,1]))\n",
    "print(OR([1,0]))\n",
    "print(OR([0,1]))\n",
    "print(OR([0,0]))"
   ]
  },
  {
   "cell_type": "code",
   "execution_count": 5,
   "id": "fb498d6d-db18-4d61-bee7-db4412c2c2cc",
   "metadata": {},
   "outputs": [
    {
     "name": "stdout",
     "output_type": "stream",
     "text": [
      "1\n",
      "0\n",
      "0\n",
      "0\n",
      "0\n",
      "0\n",
      "0\n",
      "0\n"
     ]
    }
   ],
   "source": [
    "print(AND2([1,1,1]))\n",
    "print(AND2([1,0,1]))\n",
    "print(AND2([0,1,1]))\n",
    "print(AND2([0,0,1]))\n",
    "print(AND2([1,1,0]))\n",
    "print(AND2([1,0,0]))\n",
    "print(AND2([0,1,0]))\n",
    "print(AND2([0,0,0]))"
   ]
  },
  {
   "cell_type": "code",
   "execution_count": 6,
   "id": "af760d02-491c-41d9-9983-7406197b8c92",
   "metadata": {},
   "outputs": [],
   "source": [
    "# def binstepor(x, th=0):\n",
    "#     return 0 if x< th else 1\n",
    "\n",
    "# def OR(x):\n",
    "#     or_in = np.dot(x, (1, 1))\n",
    "#     return binstepor(or_in, 1)"
   ]
  },
  {
   "cell_type": "code",
   "execution_count": 7,
   "id": "67e9eec3-a834-4c87-b574-c19483fe0854",
   "metadata": {},
   "outputs": [],
   "source": [
    "# print(OR([1,1]))\n",
    "# print(OR([1,0]))\n",
    "# print(OR([0,1]))\n",
    "# print(OR([0,0]))"
   ]
  },
  {
   "cell_type": "code",
   "execution_count": null,
   "id": "3825c371-8df3-4924-beb2-dfa2878f590f",
   "metadata": {},
   "outputs": [],
   "source": []
  }
 ],
 "metadata": {
  "kernelspec": {
   "display_name": "Python 3 (ipykernel)",
   "language": "python",
   "name": "python3"
  },
  "language_info": {
   "codemirror_mode": {
    "name": "ipython",
    "version": 3
   },
   "file_extension": ".py",
   "mimetype": "text/x-python",
   "name": "python",
   "nbconvert_exporter": "python",
   "pygments_lexer": "ipython3",
   "version": "3.10.7"
  }
 },
 "nbformat": 4,
 "nbformat_minor": 5
}
